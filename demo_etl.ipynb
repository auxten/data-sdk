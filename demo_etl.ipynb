{
  "cells": [
    {
      "cell_type": "markdown",
      "metadata": {
        "id": "view-in-github",
        "colab_type": "text"
      },
      "source": [
        "<a href=\"https://colab.research.google.com/github/auxten/data-sdk/blob/main/demo_etl.ipynb\" target=\"_parent\"><img src=\"https://colab.research.google.com/assets/colab-badge.svg\" alt=\"Open In Colab\"/></a>"
      ]
    },
    {
      "cell_type": "code",
      "source": [
        "!git clone https://github.com/auxten/data-sdk\n"
      ],
      "metadata": {
        "id": "Lfn8r51Izsgw",
        "outputId": "fb85fd29-d6e2-4ed9-fe40-f8352bf1c5d0",
        "colab": {
          "base_uri": "https://localhost:8080/"
        }
      },
      "execution_count": 1,
      "outputs": [
        {
          "output_type": "stream",
          "name": "stdout",
          "text": [
            "Cloning into 'data-sdk'...\n",
            "remote: Enumerating objects: 85, done.\u001b[K\n",
            "remote: Counting objects: 100% (85/85), done.\u001b[K\n",
            "remote: Compressing objects: 100% (63/63), done.\u001b[K\n",
            "remote: Total 85 (delta 25), reused 75 (delta 18), pack-reused 0 (from 0)\u001b[K\n",
            "Receiving objects: 100% (85/85), 61.05 KiB | 2.77 MiB/s, done.\n",
            "Resolving deltas: 100% (25/25), done.\n"
          ]
        }
      ]
    },
    {
      "cell_type": "code",
      "source": [
        "%cd data-sdk\n",
        "!pip install -r requirements.txt"
      ],
      "metadata": {
        "id": "03pMMigqzvkS",
        "outputId": "af6fc5f9-326b-4457-e906-8bd6d11c7c91",
        "colab": {
          "base_uri": "https://localhost:8080/"
        }
      },
      "execution_count": 2,
      "outputs": [
        {
          "output_type": "stream",
          "name": "stdout",
          "text": [
            "/content/data-sdk\n",
            "Collecting anthropic==0.42.0 (from -r requirements.txt (line 1))\n",
            "  Downloading anthropic-0.42.0-py3-none-any.whl.metadata (23 kB)\n",
            "Collecting chdb==3.1.2 (from -r requirements.txt (line 2))\n",
            "  Downloading chdb-3.1.2-cp311-cp311-manylinux_2_5_x86_64.manylinux1_x86_64.manylinux_2_17_x86_64.manylinux2014_x86_64.whl.metadata (19 kB)\n",
            "Collecting matplotlib==3.10.1 (from -r requirements.txt (line 3))\n",
            "  Downloading matplotlib-3.10.1-cp311-cp311-manylinux_2_17_x86_64.manylinux2014_x86_64.whl.metadata (11 kB)\n",
            "Collecting pipdeptree==2.26.0 (from -r requirements.txt (line 4))\n",
            "  Downloading pipdeptree-2.26.0-py3-none-any.whl.metadata (14 kB)\n",
            "Collecting python-dotenv==1.1.0 (from -r requirements.txt (line 5))\n",
            "  Downloading python_dotenv-1.1.0-py3-none-any.whl.metadata (24 kB)\n",
            "Requirement already satisfied: anyio<5,>=3.5.0 in /usr/local/lib/python3.11/dist-packages (from anthropic==0.42.0->-r requirements.txt (line 1)) (4.9.0)\n",
            "Requirement already satisfied: distro<2,>=1.7.0 in /usr/local/lib/python3.11/dist-packages (from anthropic==0.42.0->-r requirements.txt (line 1)) (1.9.0)\n",
            "Requirement already satisfied: httpx<1,>=0.23.0 in /usr/local/lib/python3.11/dist-packages (from anthropic==0.42.0->-r requirements.txt (line 1)) (0.28.1)\n",
            "Requirement already satisfied: jiter<1,>=0.4.0 in /usr/local/lib/python3.11/dist-packages (from anthropic==0.42.0->-r requirements.txt (line 1)) (0.9.0)\n",
            "Requirement already satisfied: pydantic<3,>=1.9.0 in /usr/local/lib/python3.11/dist-packages (from anthropic==0.42.0->-r requirements.txt (line 1)) (2.11.3)\n",
            "Requirement already satisfied: sniffio in /usr/local/lib/python3.11/dist-packages (from anthropic==0.42.0->-r requirements.txt (line 1)) (1.3.1)\n",
            "Requirement already satisfied: typing-extensions<5,>=4.10 in /usr/local/lib/python3.11/dist-packages (from anthropic==0.42.0->-r requirements.txt (line 1)) (4.13.1)\n",
            "Requirement already satisfied: pyarrow>=13.0.0 in /usr/local/lib/python3.11/dist-packages (from chdb==3.1.2->-r requirements.txt (line 2)) (18.1.0)\n",
            "Requirement already satisfied: pandas>=2.0.0 in /usr/local/lib/python3.11/dist-packages (from chdb==3.1.2->-r requirements.txt (line 2)) (2.2.2)\n",
            "Requirement already satisfied: contourpy>=1.0.1 in /usr/local/lib/python3.11/dist-packages (from matplotlib==3.10.1->-r requirements.txt (line 3)) (1.3.1)\n",
            "Requirement already satisfied: cycler>=0.10 in /usr/local/lib/python3.11/dist-packages (from matplotlib==3.10.1->-r requirements.txt (line 3)) (0.12.1)\n",
            "Requirement already satisfied: fonttools>=4.22.0 in /usr/local/lib/python3.11/dist-packages (from matplotlib==3.10.1->-r requirements.txt (line 3)) (4.57.0)\n",
            "Requirement already satisfied: kiwisolver>=1.3.1 in /usr/local/lib/python3.11/dist-packages (from matplotlib==3.10.1->-r requirements.txt (line 3)) (1.4.8)\n",
            "Requirement already satisfied: numpy>=1.23 in /usr/local/lib/python3.11/dist-packages (from matplotlib==3.10.1->-r requirements.txt (line 3)) (2.0.2)\n",
            "Requirement already satisfied: packaging>=20.0 in /usr/local/lib/python3.11/dist-packages (from matplotlib==3.10.1->-r requirements.txt (line 3)) (24.2)\n",
            "Requirement already satisfied: pillow>=8 in /usr/local/lib/python3.11/dist-packages (from matplotlib==3.10.1->-r requirements.txt (line 3)) (11.1.0)\n",
            "Requirement already satisfied: pyparsing>=2.3.1 in /usr/local/lib/python3.11/dist-packages (from matplotlib==3.10.1->-r requirements.txt (line 3)) (3.2.3)\n",
            "Requirement already satisfied: python-dateutil>=2.7 in /usr/local/lib/python3.11/dist-packages (from matplotlib==3.10.1->-r requirements.txt (line 3)) (2.8.2)\n",
            "Collecting pip>=24.2 (from pipdeptree==2.26.0->-r requirements.txt (line 4))\n",
            "  Downloading pip-25.0.1-py3-none-any.whl.metadata (3.7 kB)\n",
            "Requirement already satisfied: idna>=2.8 in /usr/local/lib/python3.11/dist-packages (from anyio<5,>=3.5.0->anthropic==0.42.0->-r requirements.txt (line 1)) (3.10)\n",
            "Requirement already satisfied: certifi in /usr/local/lib/python3.11/dist-packages (from httpx<1,>=0.23.0->anthropic==0.42.0->-r requirements.txt (line 1)) (2025.1.31)\n",
            "Requirement already satisfied: httpcore==1.* in /usr/local/lib/python3.11/dist-packages (from httpx<1,>=0.23.0->anthropic==0.42.0->-r requirements.txt (line 1)) (1.0.7)\n",
            "Requirement already satisfied: h11<0.15,>=0.13 in /usr/local/lib/python3.11/dist-packages (from httpcore==1.*->httpx<1,>=0.23.0->anthropic==0.42.0->-r requirements.txt (line 1)) (0.14.0)\n",
            "Requirement already satisfied: pytz>=2020.1 in /usr/local/lib/python3.11/dist-packages (from pandas>=2.0.0->chdb==3.1.2->-r requirements.txt (line 2)) (2025.2)\n",
            "Requirement already satisfied: tzdata>=2022.7 in /usr/local/lib/python3.11/dist-packages (from pandas>=2.0.0->chdb==3.1.2->-r requirements.txt (line 2)) (2025.2)\n",
            "Requirement already satisfied: annotated-types>=0.6.0 in /usr/local/lib/python3.11/dist-packages (from pydantic<3,>=1.9.0->anthropic==0.42.0->-r requirements.txt (line 1)) (0.7.0)\n",
            "Requirement already satisfied: pydantic-core==2.33.1 in /usr/local/lib/python3.11/dist-packages (from pydantic<3,>=1.9.0->anthropic==0.42.0->-r requirements.txt (line 1)) (2.33.1)\n",
            "Requirement already satisfied: typing-inspection>=0.4.0 in /usr/local/lib/python3.11/dist-packages (from pydantic<3,>=1.9.0->anthropic==0.42.0->-r requirements.txt (line 1)) (0.4.0)\n",
            "Requirement already satisfied: six>=1.5 in /usr/local/lib/python3.11/dist-packages (from python-dateutil>=2.7->matplotlib==3.10.1->-r requirements.txt (line 3)) (1.17.0)\n",
            "Downloading anthropic-0.42.0-py3-none-any.whl (203 kB)\n",
            "\u001b[2K   \u001b[90m━━━━━━━━━━━━━━━━━━━━━━━━━━━━━━━━━━━━━━━━\u001b[0m \u001b[32m203.4/203.4 kB\u001b[0m \u001b[31m8.3 MB/s\u001b[0m eta \u001b[36m0:00:00\u001b[0m\n",
            "\u001b[?25hDownloading chdb-3.1.2-cp311-cp311-manylinux_2_5_x86_64.manylinux1_x86_64.manylinux_2_17_x86_64.manylinux2014_x86_64.whl (140.2 MB)\n",
            "\u001b[2K   \u001b[90m━━━━━━━━━━━━━━━━━━━━━━━━━━━━━━━━━━━━━━━━\u001b[0m \u001b[32m140.2/140.2 MB\u001b[0m \u001b[31m6.0 MB/s\u001b[0m eta \u001b[36m0:00:00\u001b[0m\n",
            "\u001b[?25hDownloading matplotlib-3.10.1-cp311-cp311-manylinux_2_17_x86_64.manylinux2014_x86_64.whl (8.6 MB)\n",
            "\u001b[2K   \u001b[90m━━━━━━━━━━━━━━━━━━━━━━━━━━━━━━━━━━━━━━━━\u001b[0m \u001b[32m8.6/8.6 MB\u001b[0m \u001b[31m69.0 MB/s\u001b[0m eta \u001b[36m0:00:00\u001b[0m\n",
            "\u001b[?25hDownloading pipdeptree-2.26.0-py3-none-any.whl (32 kB)\n",
            "Downloading python_dotenv-1.1.0-py3-none-any.whl (20 kB)\n",
            "Downloading pip-25.0.1-py3-none-any.whl (1.8 MB)\n",
            "\u001b[2K   \u001b[90m━━━━━━━━━━━━━━━━━━━━━━━━━━━━━━━━━━━━━━━━\u001b[0m \u001b[32m1.8/1.8 MB\u001b[0m \u001b[31m47.9 MB/s\u001b[0m eta \u001b[36m0:00:00\u001b[0m\n",
            "\u001b[?25hInstalling collected packages: python-dotenv, pip, pipdeptree, matplotlib, chdb, anthropic\n",
            "  Attempting uninstall: pip\n",
            "    Found existing installation: pip 24.1.2\n",
            "    Uninstalling pip-24.1.2:\n",
            "      Successfully uninstalled pip-24.1.2\n",
            "  Attempting uninstall: matplotlib\n",
            "    Found existing installation: matplotlib 3.10.0\n",
            "    Uninstalling matplotlib-3.10.0:\n",
            "      Successfully uninstalled matplotlib-3.10.0\n",
            "Successfully installed anthropic-0.42.0 chdb-3.1.2 matplotlib-3.10.1 pip-25.0.1 pipdeptree-2.26.0 python-dotenv-1.1.0\n"
          ]
        }
      ]
    },
    {
      "cell_type": "code",
      "execution_count": 4,
      "metadata": {
        "id": "CddMMJ5MxQy2",
        "outputId": "2e05a1c9-79b7-46ec-fd99-9d24ac67bc65",
        "colab": {
          "base_uri": "https://localhost:8080/"
        }
      },
      "outputs": [
        {
          "output_type": "stream",
          "name": "stdout",
          "text": [
            "SELECT users.id, users.name, users.subscription_status FROM Python(reader) AS users WHERE users.subscription_status = 'active'\n"
          ]
        }
      ],
      "source": [
        "from datasource import DataSource\n",
        "from agent import Agent, ANTHROPIC_API_KEY\n",
        "\n",
        "# Use a Pandas-style connection configuration approach with unified interface\n",
        "# chDB can use any Python function or API as a table\n",
        "revenuecat = DataSource.connect(\n",
        "    \"API\",\n",
        "    url=\"http://localhost:8000/v1\",\n",
        "    api_key=\"\",\n",
        ")\n",
        "\n",
        "# select() method to specify fields\n",
        "# Allows more granular control over returned data\n",
        "users = revenuecat.collection(\"users\").select(\"id, name, subscription_status\")\n",
        "\n",
        "# filter method with multiple operator support\n",
        "# More expressive filtering operations with SQL-like clarity\n",
        "active_users = users.filter(\"subscription_status\", \"=\", \"active\")\n",
        "\n",
        "print(active_users)\n"
      ]
    },
    {
      "cell_type": "code",
      "execution_count": 5,
      "metadata": {
        "id": "i8IzGPkqxQy3",
        "outputId": "40dfe9c2-ddc2-447c-abe1-16fef572da0d",
        "colab": {
          "base_uri": "https://localhost:8080/"
        }
      },
      "outputs": [
        {
          "output_type": "stream",
          "name": "stdout",
          "text": [
            "Query Plan:\n",
            "SELECT users.id, users.name, users.subscription_status, comments.* FROM Python(reader) AS users JOIN file('data/comments.csv', 'CSV') AS comments ON users.id=comments.user_id WHERE users.subscription_status = 'active' LIMIT 1000\n",
            "\n",
            "Results:\n",
            "    ┌─id─┬─name────────────┬─subscription_status─┬─user_id─┬─comment_text─────────────────────────────────────┬─comments.created_at─┬─likes─┐\n",
            " 1. │  1 │ John Doe        │ active              │       1 │ Great product! Really love the features.         │ 2023-01-15 10:30:00 │     5 │\n",
            " 2. │  1 │ John Doe        │ active              │       1 │ Customer support was very helpful.               │ 2023-01-17 14:20:00 │     3 │\n",
            " 3. │  1 │ John Doe        │ active              │       1 │ Would recommend to others.                       │ 2023-01-21 10:00:00 │     6 │\n",
            " 4. │  1 │ John Doe        │ active              │       1 │ Great value for money.                           │ 2023-01-24 14:45:00 │     7 │\n",
            " 5. │  1 │ John Doe        │ active              │       1 │ Regular updates keep improving the experience.   │ 2023-01-26 12:15:00 │     4 │\n",
            " 6. │  1 │ John Doe        │ active              │       1 │ The API documentation is very clear.             │ 2023-01-30 11:45:00 │     5 │\n",
            " 7. │  1 │ John Doe        │ active              │       1 │ The security features give me peace of mind.     │ 2023-02-03 14:15:00 │     8 │\n",
            " 8. │  3 │ Bob Smith       │ active              │       3 │ Best service I've used in years!                 │ 2023-01-18 09:15:00 │     8 │\n",
            " 9. │  3 │ Bob Smith       │ active              │       3 │ The pricing is very reasonable.                  │ 2023-01-20 13:45:00 │     4 │\n",
            "10. │  3 │ Bob Smith       │ active              │       3 │ The documentation could be better.               │ 2023-01-23 11:30:00 │     2 │\n",
            "11. │  3 │ Bob Smith       │ active              │       3 │ Quick response time from the support team.       │ 2023-01-28 10:20:00 │     3 │\n",
            "12. │  3 │ Bob Smith       │ active              │       3 │ The performance is impressive.                   │ 2023-02-01 15:10:00 │     6 │\n",
            "13. │  5 │ Bob Johnson     │ active              │       5 │ The onboarding process was smooth and intuitive. │ 2023-02-04 09:45:00 │     4 │\n",
            "14. │  6 │ Emily Davis     │ active              │       6 │ Love the dark mode feature!                      │ 2023-02-05 11:20:00 │     7 │\n",
            "15. │  8 │ Sarah Wilson    │ active              │       8 │ Excellent customer service experience.           │ 2023-02-07 16:15:00 │     5 │\n",
            "16. │ 10 │ Lisa Anderson   │ active              │      10 │ Would like to see more integration options.      │ 2023-02-09 13:25:00 │     3 │\n",
            "17. │ 11 │ James Taylor    │ active              │      11 │ The mobile responsiveness is top-notch.          │ 2023-02-10 15:50:00 │     8 │\n",
            "18. │ 13 │ Robert Garcia   │ active              │      13 │ Great for team collaboration.                    │ 2023-02-12 11:30:00 │     6 │\n",
            "19. │ 15 │ William Lee     │ active              │      15 │ The backup system works flawlessly.              │ 2023-02-14 16:20:00 │     7 │\n",
            "20. │ 16 │ Mary White      │ active              │      16 │ The notification system is too aggressive.       │ 2023-02-15 10:35:00 │     2 │\n",
            "21. │ 18 │ Elizabeth Clark │ active              │      18 │ The UI design is modern and clean.               │ 2023-02-17 15:05:00 │     6 │\n",
            "22. │ 20 │ Nancy Hall      │ active              │      20 │ The data visualization tools are powerful.       │ 2023-02-19 11:45:00 │     7 │\n",
            "    └────┴─────────────────┴─────────────────────┴─────────┴──────────────────────────────────────────────────┴─────────────────────┴───────┘\n",
            "\n"
          ]
        }
      ],
      "source": [
        "\n",
        "# Database connections use the same unified interface\n",
        "# Consistency across different data sources reduces cognitive load\n",
        "# db = DataSource.connect(\n",
        "#     \"postgres\", host=\"localhost\", database=\"mydb\", user=\"user\", password=\"xxx\"\n",
        "# )\n",
        "\n",
        "# File source connection (CSV)\n",
        "db = DataSource.connect(\"file\", path=\"data/comments.csv\", format=\"CSV\")\n",
        "\n",
        "# SQL syntax sugar while maintaining DataFrame-style interface\n",
        "# Familiar SQL concepts merged with modern object chaining\n",
        "comments = db.table(\"comments\").select(\"*\")\n",
        "\n",
        "# Add Pandas-style relational queries\n",
        "# Enhanced join operations with clear relation definition\n",
        "subscribed_user_comments = active_users.join(\n",
        "    comments, on={\"users.id\": \"comments.user_id\"}\n",
        ")\n",
        "\n",
        "# Pandas-style pagination and limitations\n",
        "# Efficient data handling without loading unnecessary records\n",
        "sample = subscribed_user_comments.limit(1000)\n",
        "\n",
        "# Show the query plan\n",
        "print(\"Query Plan:\")\n",
        "print(sample)\n",
        "\n",
        "# Execute the query and show results\n",
        "print(\"\\nResults:\")\n",
        "print(sample.execute())\n",
        "\n",
        "# Execute with different output formats\n",
        "# print(\"\\nResults as JSON:\")\n",
        "# print(sample.execute(output_format=\"JSON\"))\n"
      ]
    },
    {
      "cell_type": "code",
      "execution_count": 6,
      "metadata": {
        "id": "trJIn6PnxQy3",
        "outputId": "4cf58fba-8ae4-4bd0-8f38-d7b2aaa91453",
        "colab": {
          "base_uri": "https://localhost:8080/",
          "height": 347
        }
      },
      "outputs": [
        {
          "output_type": "error",
          "ename": "AuthenticationError",
          "evalue": "Error code: 401 - {'type': 'error', 'error': {'type': 'authentication_error', 'message': 'invalid x-api-key'}}",
          "traceback": [
            "\u001b[0;31m---------------------------------------------------------------------------\u001b[0m",
            "\u001b[0;31mAuthenticationError\u001b[0m                       Traceback (most recent call last)",
            "\u001b[0;32m<ipython-input-6-bb5f67214a09>\u001b[0m in \u001b[0;36m<cell line: 0>\u001b[0;34m()\u001b[0m\n\u001b[1;32m      1\u001b[0m \u001b[0;31m# Use the question function to generate SQL from natural language\u001b[0m\u001b[0;34m\u001b[0m\u001b[0;34m\u001b[0m\u001b[0m\n\u001b[0;32m----> 2\u001b[0;31m \u001b[0manalysis\u001b[0m \u001b[0;34m=\u001b[0m \u001b[0msample\u001b[0m\u001b[0;34m.\u001b[0m\u001b[0mquestion\u001b[0m\u001b[0;34m(\u001b[0m\u001b[0;34m\"accumulate the total comments count for each user\"\u001b[0m\u001b[0;34m)\u001b[0m\u001b[0;34m\u001b[0m\u001b[0;34m\u001b[0m\u001b[0m\n\u001b[0m\u001b[1;32m      3\u001b[0m \u001b[0mprint\u001b[0m\u001b[0;34m(\u001b[0m\u001b[0;34m\"SQL generated by Agent:\"\u001b[0m\u001b[0;34m)\u001b[0m\u001b[0;34m\u001b[0m\u001b[0;34m\u001b[0m\u001b[0m\n\u001b[1;32m      4\u001b[0m \u001b[0mprint\u001b[0m\u001b[0;34m(\u001b[0m\u001b[0manalysis\u001b[0m\u001b[0;34m)\u001b[0m\u001b[0;34m\u001b[0m\u001b[0;34m\u001b[0m\u001b[0m\n",
            "\u001b[0;32m/content/data-sdk/chainfunc/query_builder.py\u001b[0m in \u001b[0;36mquestion\u001b[0;34m(self, question)\u001b[0m\n\u001b[1;32m    386\u001b[0m         \u001b[0;34m\"\"\"Generate SQL from a natural language question using Agent.\"\"\"\u001b[0m\u001b[0;34m\u001b[0m\u001b[0;34m\u001b[0m\u001b[0m\n\u001b[1;32m    387\u001b[0m         \u001b[0magent\u001b[0m \u001b[0;34m=\u001b[0m \u001b[0mAgent\u001b[0m\u001b[0;34m(\u001b[0m\u001b[0;34m)\u001b[0m\u001b[0;34m\u001b[0m\u001b[0;34m\u001b[0m\u001b[0m\n\u001b[0;32m--> 388\u001b[0;31m         \u001b[0;32mreturn\u001b[0m \u001b[0magent\u001b[0m\u001b[0;34m.\u001b[0m\u001b[0mquestion_wrapper\u001b[0m\u001b[0;34m(\u001b[0m\u001b[0mself\u001b[0m\u001b[0;34m,\u001b[0m \u001b[0mquestion\u001b[0m\u001b[0;34m)\u001b[0m\u001b[0;34m\u001b[0m\u001b[0;34m\u001b[0m\u001b[0m\n\u001b[0m\u001b[1;32m    389\u001b[0m \u001b[0;34m\u001b[0m\u001b[0m\n\u001b[1;32m    390\u001b[0m     \u001b[0;32mdef\u001b[0m \u001b[0mtable\u001b[0m\u001b[0;34m(\u001b[0m\u001b[0mself\u001b[0m\u001b[0;34m,\u001b[0m \u001b[0mname\u001b[0m\u001b[0;34m:\u001b[0m \u001b[0mstr\u001b[0m\u001b[0;34m)\u001b[0m \u001b[0;34m->\u001b[0m \u001b[0;34m\"QueryBuilder\"\u001b[0m\u001b[0;34m:\u001b[0m\u001b[0;34m\u001b[0m\u001b[0;34m\u001b[0m\u001b[0m\n",
            "\u001b[0;32m/content/data-sdk/agent/agent.py\u001b[0m in \u001b[0;36mquestion_wrapper\u001b[0;34m(self, query_builder, question, cache)\u001b[0m\n\u001b[1;32m     37\u001b[0m \u001b[0;34m\u001b[0m\u001b[0m\n\u001b[1;32m     38\u001b[0m         \u001b[0;31m# Call Claude API to generate SQL\u001b[0m\u001b[0;34m\u001b[0m\u001b[0;34m\u001b[0m\u001b[0m\n\u001b[0;32m---> 39\u001b[0;31m         response = self.client.messages.create(\n\u001b[0m\u001b[1;32m     40\u001b[0m             \u001b[0mmodel\u001b[0m\u001b[0;34m=\u001b[0m\u001b[0;34m\"claude-3-7-sonnet-latest\"\u001b[0m\u001b[0;34m,\u001b[0m\u001b[0;34m\u001b[0m\u001b[0;34m\u001b[0m\u001b[0m\n\u001b[1;32m     41\u001b[0m             \u001b[0mmax_tokens\u001b[0m\u001b[0;34m=\u001b[0m\u001b[0;36m64000\u001b[0m\u001b[0;34m,\u001b[0m\u001b[0;34m\u001b[0m\u001b[0;34m\u001b[0m\u001b[0m\n",
            "\u001b[0;32m/usr/local/lib/python3.11/dist-packages/anthropic/_utils/_utils.py\u001b[0m in \u001b[0;36mwrapper\u001b[0;34m(*args, **kwargs)\u001b[0m\n\u001b[1;32m    273\u001b[0m                         \u001b[0mmsg\u001b[0m \u001b[0;34m=\u001b[0m \u001b[0;34mf\"Missing required argument: {quote(missing[0])}\"\u001b[0m\u001b[0;34m\u001b[0m\u001b[0;34m\u001b[0m\u001b[0m\n\u001b[1;32m    274\u001b[0m                 \u001b[0;32mraise\u001b[0m \u001b[0mTypeError\u001b[0m\u001b[0;34m(\u001b[0m\u001b[0mmsg\u001b[0m\u001b[0;34m)\u001b[0m\u001b[0;34m\u001b[0m\u001b[0;34m\u001b[0m\u001b[0m\n\u001b[0;32m--> 275\u001b[0;31m             \u001b[0;32mreturn\u001b[0m \u001b[0mfunc\u001b[0m\u001b[0;34m(\u001b[0m\u001b[0;34m*\u001b[0m\u001b[0margs\u001b[0m\u001b[0;34m,\u001b[0m \u001b[0;34m**\u001b[0m\u001b[0mkwargs\u001b[0m\u001b[0;34m)\u001b[0m\u001b[0;34m\u001b[0m\u001b[0;34m\u001b[0m\u001b[0m\n\u001b[0m\u001b[1;32m    276\u001b[0m \u001b[0;34m\u001b[0m\u001b[0m\n\u001b[1;32m    277\u001b[0m         \u001b[0;32mreturn\u001b[0m \u001b[0mwrapper\u001b[0m  \u001b[0;31m# type: ignore\u001b[0m\u001b[0;34m\u001b[0m\u001b[0;34m\u001b[0m\u001b[0m\n",
            "\u001b[0;32m/usr/local/lib/python3.11/dist-packages/anthropic/resources/messages/messages.py\u001b[0m in \u001b[0;36mcreate\u001b[0;34m(self, max_tokens, messages, model, metadata, stop_sequences, stream, system, temperature, tool_choice, tools, top_k, top_p, extra_headers, extra_query, extra_body, timeout)\u001b[0m\n\u001b[1;32m    899\u001b[0m             )\n\u001b[1;32m    900\u001b[0m \u001b[0;34m\u001b[0m\u001b[0m\n\u001b[0;32m--> 901\u001b[0;31m         return self._post(\n\u001b[0m\u001b[1;32m    902\u001b[0m             \u001b[0;34m\"/v1/messages\"\u001b[0m\u001b[0;34m,\u001b[0m\u001b[0;34m\u001b[0m\u001b[0;34m\u001b[0m\u001b[0m\n\u001b[1;32m    903\u001b[0m             body=maybe_transform(\n",
            "\u001b[0;32m/usr/local/lib/python3.11/dist-packages/anthropic/_base_client.py\u001b[0m in \u001b[0;36mpost\u001b[0;34m(self, path, cast_to, body, options, files, stream, stream_cls)\u001b[0m\n\u001b[1;32m   1277\u001b[0m             \u001b[0mmethod\u001b[0m\u001b[0;34m=\u001b[0m\u001b[0;34m\"post\"\u001b[0m\u001b[0;34m,\u001b[0m \u001b[0murl\u001b[0m\u001b[0;34m=\u001b[0m\u001b[0mpath\u001b[0m\u001b[0;34m,\u001b[0m \u001b[0mjson_data\u001b[0m\u001b[0;34m=\u001b[0m\u001b[0mbody\u001b[0m\u001b[0;34m,\u001b[0m \u001b[0mfiles\u001b[0m\u001b[0;34m=\u001b[0m\u001b[0mto_httpx_files\u001b[0m\u001b[0;34m(\u001b[0m\u001b[0mfiles\u001b[0m\u001b[0;34m)\u001b[0m\u001b[0;34m,\u001b[0m \u001b[0;34m**\u001b[0m\u001b[0moptions\u001b[0m\u001b[0;34m\u001b[0m\u001b[0;34m\u001b[0m\u001b[0m\n\u001b[1;32m   1278\u001b[0m         )\n\u001b[0;32m-> 1279\u001b[0;31m         \u001b[0;32mreturn\u001b[0m \u001b[0mcast\u001b[0m\u001b[0;34m(\u001b[0m\u001b[0mResponseT\u001b[0m\u001b[0;34m,\u001b[0m \u001b[0mself\u001b[0m\u001b[0;34m.\u001b[0m\u001b[0mrequest\u001b[0m\u001b[0;34m(\u001b[0m\u001b[0mcast_to\u001b[0m\u001b[0;34m,\u001b[0m \u001b[0mopts\u001b[0m\u001b[0;34m,\u001b[0m \u001b[0mstream\u001b[0m\u001b[0;34m=\u001b[0m\u001b[0mstream\u001b[0m\u001b[0;34m,\u001b[0m \u001b[0mstream_cls\u001b[0m\u001b[0;34m=\u001b[0m\u001b[0mstream_cls\u001b[0m\u001b[0;34m)\u001b[0m\u001b[0;34m)\u001b[0m\u001b[0;34m\u001b[0m\u001b[0;34m\u001b[0m\u001b[0m\n\u001b[0m\u001b[1;32m   1280\u001b[0m \u001b[0;34m\u001b[0m\u001b[0m\n\u001b[1;32m   1281\u001b[0m     def patch(\n",
            "\u001b[0;32m/usr/local/lib/python3.11/dist-packages/anthropic/_base_client.py\u001b[0m in \u001b[0;36mrequest\u001b[0;34m(self, cast_to, options, remaining_retries, stream, stream_cls)\u001b[0m\n\u001b[1;32m    954\u001b[0m             \u001b[0mretries_taken\u001b[0m \u001b[0;34m=\u001b[0m \u001b[0;36m0\u001b[0m\u001b[0;34m\u001b[0m\u001b[0;34m\u001b[0m\u001b[0m\n\u001b[1;32m    955\u001b[0m \u001b[0;34m\u001b[0m\u001b[0m\n\u001b[0;32m--> 956\u001b[0;31m         return self._request(\n\u001b[0m\u001b[1;32m    957\u001b[0m             \u001b[0mcast_to\u001b[0m\u001b[0;34m=\u001b[0m\u001b[0mcast_to\u001b[0m\u001b[0;34m,\u001b[0m\u001b[0;34m\u001b[0m\u001b[0;34m\u001b[0m\u001b[0m\n\u001b[1;32m    958\u001b[0m             \u001b[0moptions\u001b[0m\u001b[0;34m=\u001b[0m\u001b[0moptions\u001b[0m\u001b[0;34m,\u001b[0m\u001b[0;34m\u001b[0m\u001b[0;34m\u001b[0m\u001b[0m\n",
            "\u001b[0;32m/usr/local/lib/python3.11/dist-packages/anthropic/_base_client.py\u001b[0m in \u001b[0;36m_request\u001b[0;34m(self, cast_to, options, retries_taken, stream, stream_cls)\u001b[0m\n\u001b[1;32m   1058\u001b[0m \u001b[0;34m\u001b[0m\u001b[0m\n\u001b[1;32m   1059\u001b[0m             \u001b[0mlog\u001b[0m\u001b[0;34m.\u001b[0m\u001b[0mdebug\u001b[0m\u001b[0;34m(\u001b[0m\u001b[0;34m\"Re-raising status error\"\u001b[0m\u001b[0;34m)\u001b[0m\u001b[0;34m\u001b[0m\u001b[0;34m\u001b[0m\u001b[0m\n\u001b[0;32m-> 1060\u001b[0;31m             \u001b[0;32mraise\u001b[0m \u001b[0mself\u001b[0m\u001b[0;34m.\u001b[0m\u001b[0m_make_status_error_from_response\u001b[0m\u001b[0;34m(\u001b[0m\u001b[0merr\u001b[0m\u001b[0;34m.\u001b[0m\u001b[0mresponse\u001b[0m\u001b[0;34m)\u001b[0m \u001b[0;32mfrom\u001b[0m \u001b[0;32mNone\u001b[0m\u001b[0;34m\u001b[0m\u001b[0;34m\u001b[0m\u001b[0m\n\u001b[0m\u001b[1;32m   1061\u001b[0m \u001b[0;34m\u001b[0m\u001b[0m\n\u001b[1;32m   1062\u001b[0m         return self._process_response(\n",
            "\u001b[0;31mAuthenticationError\u001b[0m: Error code: 401 - {'type': 'error', 'error': {'type': 'authentication_error', 'message': 'invalid x-api-key'}}"
          ]
        }
      ],
      "source": [
        "import os\n",
        "if \"ANTHROPIC_API_KEY\" not in os.environ:\n",
        "  from getpass import getpass\n",
        "  anthropic_api_key = getpass(\"Input your anthropic api key\")\n",
        "  os.environ[\"ANTHROPIC_API_KEY\"]=anthropic_api_key\n",
        "\n",
        "\n",
        "# Use the question function to generate SQL from natural language\n",
        "analysis = sample.question(\"accumulate the total comments count for each user\")\n",
        "print(\"SQL generated by Agent:\")\n",
        "print(analysis)\n"
      ]
    },
    {
      "cell_type": "code",
      "execution_count": null,
      "metadata": {
        "id": "12OS_sO-xQy3"
      },
      "outputs": [],
      "source": [
        "print(\"Results from SQL:\")\n",
        "print(analysis.execute())\n",
        "\n",
        "# Rich output format options\n",
        "# Multiple export formats for different downstream needs\n",
        "result = analysis.to_dataframe()  # Return pandas DataFrame\n",
        "print(result)\n",
        "result = analysis.to_dict()  # Return dictionary structure\n",
        "print(result)\n"
      ]
    },
    {
      "cell_type": "code",
      "execution_count": null,
      "metadata": {
        "id": "MdWcZFyIxQy3"
      },
      "outputs": [],
      "source": [
        "analysis.plot(x=\"name\", y=\"total_comments\", kind=\"bar\")"
      ]
    }
  ],
  "metadata": {
    "kernelspec": {
      "display_name": "data-sdk",
      "language": "python",
      "name": "python3"
    },
    "language_info": {
      "codemirror_mode": {
        "name": "ipython",
        "version": 3
      },
      "file_extension": ".py",
      "mimetype": "text/x-python",
      "name": "python",
      "nbconvert_exporter": "python",
      "pygments_lexer": "ipython3",
      "version": "3.11.2"
    },
    "colab": {
      "provenance": [],
      "toc_visible": true,
      "include_colab_link": true
    }
  },
  "nbformat": 4,
  "nbformat_minor": 0
}
{
  "cells": [
    {
      "cell_type": "markdown",
      "metadata": {
        "id": "view-in-github",
        "colab_type": "text"
      },
      "source": [
        "<a href=\"https://colab.research.google.com/github/auxten/data-sdk/blob/main/demo_etl.ipynb\" target=\"_parent\"><img src=\"https://colab.research.google.com/assets/colab-badge.svg\" alt=\"Open In Colab\"/></a>"
      ]
    },
    {
      "cell_type": "code",
      "source": [
        "!git clone https://github.com/auxten/data-sdk\n"
      ],
      "metadata": {
        "colab": {
          "base_uri": "https://localhost:8080/"
        },
        "id": "Lfn8r51Izsgw",
        "outputId": "2182a287-288e-4f66-c523-c32c460592a6"
      },
      "execution_count": null,
      "outputs": [
        {
          "output_type": "stream",
          "name": "stdout",
          "text": [
            "fatal: destination path 'data-sdk' already exists and is not an empty directory.\n"
          ]
        }
      ]
    },
    {
      "cell_type": "code",
      "source": [
        "%cd data-sdk\n",
        "!pip install -r requirements.txt"
      ],
      "metadata": {
        "colab": {
          "base_uri": "https://localhost:8080/"
        },
        "id": "03pMMigqzvkS",
        "outputId": "5d5e61b6-0322-4b71-ea97-98d1e0379a99",
        "collapsed": true
      },
      "execution_count": null,
      "outputs": [
        {
          "output_type": "stream",
          "name": "stdout",
          "text": [
            "/content/data-sdk\n",
            "Requirement already satisfied: anthropic==0.42.0 in /usr/local/lib/python3.11/dist-packages (from -r requirements.txt (line 1)) (0.42.0)\n",
            "Requirement already satisfied: chdb==3.1.2 in /usr/local/lib/python3.11/dist-packages (from -r requirements.txt (line 2)) (3.1.2)\n",
            "Requirement already satisfied: matplotlib==3.10.1 in /usr/local/lib/python3.11/dist-packages (from -r requirements.txt (line 3)) (3.10.1)\n",
            "Requirement already satisfied: pipdeptree==2.26.0 in /usr/local/lib/python3.11/dist-packages (from -r requirements.txt (line 4)) (2.26.0)\n",
            "Requirement already satisfied: python-dotenv==1.1.0 in /usr/local/lib/python3.11/dist-packages (from -r requirements.txt (line 5)) (1.1.0)\n",
            "Requirement already satisfied: anyio<5,>=3.5.0 in /usr/local/lib/python3.11/dist-packages (from anthropic==0.42.0->-r requirements.txt (line 1)) (4.9.0)\n",
            "Requirement already satisfied: distro<2,>=1.7.0 in /usr/local/lib/python3.11/dist-packages (from anthropic==0.42.0->-r requirements.txt (line 1)) (1.9.0)\n",
            "Requirement already satisfied: httpx<1,>=0.23.0 in /usr/local/lib/python3.11/dist-packages (from anthropic==0.42.0->-r requirements.txt (line 1)) (0.28.1)\n",
            "Requirement already satisfied: jiter<1,>=0.4.0 in /usr/local/lib/python3.11/dist-packages (from anthropic==0.42.0->-r requirements.txt (line 1)) (0.9.0)\n",
            "Requirement already satisfied: pydantic<3,>=1.9.0 in /usr/local/lib/python3.11/dist-packages (from anthropic==0.42.0->-r requirements.txt (line 1)) (2.11.3)\n",
            "Requirement already satisfied: sniffio in /usr/local/lib/python3.11/dist-packages (from anthropic==0.42.0->-r requirements.txt (line 1)) (1.3.1)\n",
            "Requirement already satisfied: typing-extensions<5,>=4.10 in /usr/local/lib/python3.11/dist-packages (from anthropic==0.42.0->-r requirements.txt (line 1)) (4.13.1)\n",
            "Requirement already satisfied: pyarrow>=13.0.0 in /usr/local/lib/python3.11/dist-packages (from chdb==3.1.2->-r requirements.txt (line 2)) (18.1.0)\n",
            "Requirement already satisfied: pandas>=2.0.0 in /usr/local/lib/python3.11/dist-packages (from chdb==3.1.2->-r requirements.txt (line 2)) (2.2.2)\n",
            "Requirement already satisfied: contourpy>=1.0.1 in /usr/local/lib/python3.11/dist-packages (from matplotlib==3.10.1->-r requirements.txt (line 3)) (1.3.1)\n",
            "Requirement already satisfied: cycler>=0.10 in /usr/local/lib/python3.11/dist-packages (from matplotlib==3.10.1->-r requirements.txt (line 3)) (0.12.1)\n",
            "Requirement already satisfied: fonttools>=4.22.0 in /usr/local/lib/python3.11/dist-packages (from matplotlib==3.10.1->-r requirements.txt (line 3)) (4.57.0)\n",
            "Requirement already satisfied: kiwisolver>=1.3.1 in /usr/local/lib/python3.11/dist-packages (from matplotlib==3.10.1->-r requirements.txt (line 3)) (1.4.8)\n",
            "Requirement already satisfied: numpy>=1.23 in /usr/local/lib/python3.11/dist-packages (from matplotlib==3.10.1->-r requirements.txt (line 3)) (2.0.2)\n",
            "Requirement already satisfied: packaging>=20.0 in /usr/local/lib/python3.11/dist-packages (from matplotlib==3.10.1->-r requirements.txt (line 3)) (24.2)\n",
            "Requirement already satisfied: pillow>=8 in /usr/local/lib/python3.11/dist-packages (from matplotlib==3.10.1->-r requirements.txt (line 3)) (11.1.0)\n",
            "Requirement already satisfied: pyparsing>=2.3.1 in /usr/local/lib/python3.11/dist-packages (from matplotlib==3.10.1->-r requirements.txt (line 3)) (3.2.3)\n",
            "Requirement already satisfied: python-dateutil>=2.7 in /usr/local/lib/python3.11/dist-packages (from matplotlib==3.10.1->-r requirements.txt (line 3)) (2.8.2)\n",
            "Requirement already satisfied: pip>=24.2 in /usr/local/lib/python3.11/dist-packages (from pipdeptree==2.26.0->-r requirements.txt (line 4)) (25.0.1)\n",
            "Requirement already satisfied: idna>=2.8 in /usr/local/lib/python3.11/dist-packages (from anyio<5,>=3.5.0->anthropic==0.42.0->-r requirements.txt (line 1)) (3.10)\n",
            "Requirement already satisfied: certifi in /usr/local/lib/python3.11/dist-packages (from httpx<1,>=0.23.0->anthropic==0.42.0->-r requirements.txt (line 1)) (2025.1.31)\n",
            "Requirement already satisfied: httpcore==1.* in /usr/local/lib/python3.11/dist-packages (from httpx<1,>=0.23.0->anthropic==0.42.0->-r requirements.txt (line 1)) (1.0.7)\n",
            "Requirement already satisfied: h11<0.15,>=0.13 in /usr/local/lib/python3.11/dist-packages (from httpcore==1.*->httpx<1,>=0.23.0->anthropic==0.42.0->-r requirements.txt (line 1)) (0.14.0)\n",
            "Requirement already satisfied: pytz>=2020.1 in /usr/local/lib/python3.11/dist-packages (from pandas>=2.0.0->chdb==3.1.2->-r requirements.txt (line 2)) (2025.2)\n",
            "Requirement already satisfied: tzdata>=2022.7 in /usr/local/lib/python3.11/dist-packages (from pandas>=2.0.0->chdb==3.1.2->-r requirements.txt (line 2)) (2025.2)\n",
            "Requirement already satisfied: annotated-types>=0.6.0 in /usr/local/lib/python3.11/dist-packages (from pydantic<3,>=1.9.0->anthropic==0.42.0->-r requirements.txt (line 1)) (0.7.0)\n",
            "Requirement already satisfied: pydantic-core==2.33.1 in /usr/local/lib/python3.11/dist-packages (from pydantic<3,>=1.9.0->anthropic==0.42.0->-r requirements.txt (line 1)) (2.33.1)\n",
            "Requirement already satisfied: typing-inspection>=0.4.0 in /usr/local/lib/python3.11/dist-packages (from pydantic<3,>=1.9.0->anthropic==0.42.0->-r requirements.txt (line 1)) (0.4.0)\n",
            "Requirement already satisfied: six>=1.5 in /usr/local/lib/python3.11/dist-packages (from python-dateutil>=2.7->matplotlib==3.10.1->-r requirements.txt (line 3)) (1.17.0)\n"
          ]
        }
      ]
    },
    {
      "cell_type": "markdown",
      "source": [
        "# API as a Table\n",
        "\n",
        "<img width=\"598\" alt=\"Image\" src=\"https://github.com/user-attachments/assets/43c22356-ce18-46e5-8a0e-20d02de944b3\" />"
      ],
      "metadata": {
        "id": "qUDFkBKmHbnz"
      }
    },
    {
      "cell_type": "code",
      "source": [
        "import os\n",
        "if \"ANTHROPIC_API_KEY\" not in os.environ or os.environ[\"ANTHROPIC_API_KEY\"] == \"\":\n",
        "  from getpass import getpass\n",
        "  anthropic_api_key = getpass(\"Input your anthropic api key\")\n",
        "  os.environ[\"ANTHROPIC_API_KEY\"]=anthropic_api_key\n",
        "\n",
        "from datasource import DataSource\n",
        "from agent import Agent, ANTHROPIC_API_KEY\n",
        "\n",
        "# Use a Pandas-style connection configuration approach with unified interface\n",
        "# chDB can use any Python function or API as a table\n",
        "revenuecat = DataSource.connect(\n",
        "    \"API\",\n",
        "    url=\"http://localhost:8000/v1\",\n",
        "    api_key=\"\",\n",
        ")"
      ],
      "metadata": {
        "id": "gHyAgVGhIqNX"
      },
      "execution_count": null,
      "outputs": []
    },
    {
      "cell_type": "markdown",
      "source": [
        "## Select and Filter data, but not executed"
      ],
      "metadata": {
        "id": "yPxilcdeIuf9"
      }
    },
    {
      "cell_type": "code",
      "execution_count": null,
      "metadata": {
        "colab": {
          "base_uri": "https://localhost:8080/"
        },
        "id": "CddMMJ5MxQy2",
        "outputId": "1a05804f-0698-49e1-c0bd-748447df6ec8"
      },
      "outputs": [
        {
          "output_type": "stream",
          "name": "stdout",
          "text": [
            "Input your anthropic api key··········\n",
            "SELECT users.id, users.name, users.subscription_status FROM Python(reader) AS users WHERE users.subscription_status = 'active'\n"
          ]
        }
      ],
      "source": [
        "# select() method to specify fields\n",
        "# Allows more granular control over returned data\n",
        "users = revenuecat.collection(\"users\").select(\"id, name, subscription_status\")\n",
        "\n",
        "# filter method with multiple operator support\n",
        "# More expressive filtering operations with SQL-like clarity\n",
        "active_users = users.filter(\"subscription_status\", \"=\", \"active\")\n",
        "\n",
        "print(active_users)\n"
      ]
    },
    {
      "cell_type": "markdown",
      "source": [
        "# CSV as a table\n",
        "\n",
        "<img width=\"745\" alt=\"Image\" src=\"https://github.com/user-attachments/assets/8ecd0238-5b27-4758-baa1-8d798ebcd0e1\" />"
      ],
      "metadata": {
        "id": "K6Dv6kZ-I5Md"
      }
    },
    {
      "cell_type": "code",
      "source": [
        "# Database connections use the same unified interface\n",
        "# Consistency across different data sources reduces cognitive load\n",
        "# db = DataSource.connect(\n",
        "#     \"postgres\", host=\"localhost\", database=\"mydb\", user=\"user\", password=\"xxx\"\n",
        "# )\n",
        "\n",
        "# File source connection (CSV)\n",
        "db = DataSource.connect(\"file\", path=\"data/comments.csv\", format=\"CSV\")\n",
        "\n",
        "# SQL syntax sugar while maintaining DataFrame-style interface\n",
        "# Familiar SQL concepts merged with modern object chaining\n",
        "comments = db.table(\"comments\").select(\"*\")"
      ],
      "metadata": {
        "id": "jdbeiqxSJkiK"
      },
      "execution_count": null,
      "outputs": []
    },
    {
      "cell_type": "markdown",
      "source": [
        "# JOIN 2 data sources\n",
        "\n",
        "<img width=\"500\" alt=\"Image\" src=\"https://github.com/user-attachments/assets/018f29d5-ab8a-4504-93f9-57f41ae19513\" />"
      ],
      "metadata": {
        "id": "DyEgYdn8KORI"
      }
    },
    {
      "cell_type": "code",
      "execution_count": null,
      "metadata": {
        "colab": {
          "base_uri": "https://localhost:8080/"
        },
        "id": "i8IzGPkqxQy3",
        "outputId": "ee376a79-5fb5-44cd-ff41-ef4ab6aa5001"
      },
      "outputs": [
        {
          "output_type": "stream",
          "name": "stdout",
          "text": [
            "Query Plan:\n",
            "SELECT users.id, users.name, users.subscription_status, comments.* FROM Python(reader) AS users JOIN file('data/comments.csv', 'CSV') AS comments ON users.id=comments.user_id WHERE users.subscription_status = 'active' LIMIT 1000\n",
            "\n",
            "Results:\n",
            "    ┌─id─┬─name────────────┬─subscription_status─┬─user_id─┬─comment_text─────────────────────────────────────┬─comments.created_at─┬─likes─┐\n",
            " 1. │  1 │ John Doe        │ active              │       1 │ Great product! Really love the features.         │ 2023-01-15 10:30:00 │     5 │\n",
            " 2. │  1 │ John Doe        │ active              │       1 │ Customer support was very helpful.               │ 2023-01-17 14:20:00 │     3 │\n",
            " 3. │  1 │ John Doe        │ active              │       1 │ Would recommend to others.                       │ 2023-01-21 10:00:00 │     6 │\n",
            " 4. │  1 │ John Doe        │ active              │       1 │ Great value for money.                           │ 2023-01-24 14:45:00 │     7 │\n",
            " 5. │  1 │ John Doe        │ active              │       1 │ Regular updates keep improving the experience.   │ 2023-01-26 12:15:00 │     4 │\n",
            " 6. │  1 │ John Doe        │ active              │       1 │ The API documentation is very clear.             │ 2023-01-30 11:45:00 │     5 │\n",
            " 7. │  1 │ John Doe        │ active              │       1 │ The security features give me peace of mind.     │ 2023-02-03 14:15:00 │     8 │\n",
            " 8. │  3 │ Bob Smith       │ active              │       3 │ Best service I've used in years!                 │ 2023-01-18 09:15:00 │     8 │\n",
            " 9. │  3 │ Bob Smith       │ active              │       3 │ The pricing is very reasonable.                  │ 2023-01-20 13:45:00 │     4 │\n",
            "10. │  3 │ Bob Smith       │ active              │       3 │ The documentation could be better.               │ 2023-01-23 11:30:00 │     2 │\n",
            "11. │  3 │ Bob Smith       │ active              │       3 │ Quick response time from the support team.       │ 2023-01-28 10:20:00 │     3 │\n",
            "12. │  3 │ Bob Smith       │ active              │       3 │ The performance is impressive.                   │ 2023-02-01 15:10:00 │     6 │\n",
            "13. │  5 │ Bob Johnson     │ active              │       5 │ The onboarding process was smooth and intuitive. │ 2023-02-04 09:45:00 │     4 │\n",
            "14. │  6 │ Emily Davis     │ active              │       6 │ Love the dark mode feature!                      │ 2023-02-05 11:20:00 │     7 │\n",
            "15. │  8 │ Sarah Wilson    │ active              │       8 │ Excellent customer service experience.           │ 2023-02-07 16:15:00 │     5 │\n",
            "16. │ 10 │ Lisa Anderson   │ active              │      10 │ Would like to see more integration options.      │ 2023-02-09 13:25:00 │     3 │\n",
            "17. │ 11 │ James Taylor    │ active              │      11 │ The mobile responsiveness is top-notch.          │ 2023-02-10 15:50:00 │     8 │\n",
            "18. │ 13 │ Robert Garcia   │ active              │      13 │ Great for team collaboration.                    │ 2023-02-12 11:30:00 │     6 │\n",
            "19. │ 15 │ William Lee     │ active              │      15 │ The backup system works flawlessly.              │ 2023-02-14 16:20:00 │     7 │\n",
            "20. │ 16 │ Mary White      │ active              │      16 │ The notification system is too aggressive.       │ 2023-02-15 10:35:00 │     2 │\n",
            "21. │ 18 │ Elizabeth Clark │ active              │      18 │ The UI design is modern and clean.               │ 2023-02-17 15:05:00 │     6 │\n",
            "22. │ 20 │ Nancy Hall      │ active              │      20 │ The data visualization tools are powerful.       │ 2023-02-19 11:45:00 │     7 │\n",
            "    └────┴─────────────────┴─────────────────────┴─────────┴──────────────────────────────────────────────────┴─────────────────────┴───────┘\n",
            "\n"
          ]
        }
      ],
      "source": [
        "# Add Pandas-style relational queries\n",
        "# Enhanced join operations with clear relation definition\n",
        "subscribed_user_comments = active_users.join(\n",
        "    comments, on={\"users.id\": \"comments.user_id\"}\n",
        ")\n",
        "\n",
        "# Pandas-style pagination and limitations\n",
        "# Efficient data handling without loading unnecessary records\n",
        "sample = subscribed_user_comments.limit(1000)\n",
        "\n",
        "# Show the query\n",
        "print(\"Query:\")\n",
        "print(sample)\n",
        "\n",
        "# Execute the query and show results\n",
        "print(\"\\nResults:\")\n",
        "print(sample.execute())\n",
        "\n",
        "# Execute with different output formats\n",
        "# print(\"\\nResults as JSON:\")\n",
        "# print(sample.execute(output_format=\"JSON\"))\n"
      ]
    },
    {
      "cell_type": "code",
      "execution_count": null,
      "metadata": {
        "colab": {
          "base_uri": "https://localhost:8080/"
        },
        "id": "trJIn6PnxQy3",
        "outputId": "2b06c0d0-53dd-41f4-b3d4-677239fdc48c"
      },
      "outputs": [
        {
          "output_type": "stream",
          "name": "stdout",
          "text": [
            "SQL generated by Agent:\n",
            "SELECT \n",
            "    users.id, \n",
            "    users.name, \n",
            "    users.subscription_status, \n",
            "    COUNT(comments.user_id) AS total_comments\n",
            "FROM Python(reader) AS users \n",
            "JOIN file('data/comments.csv', 'CSV') AS comments ON (users.id = comments.user_id) \n",
            "WHERE users.subscription_status = 'active'\n",
            "GROUP BY \n",
            "    users.id, \n",
            "    users.name, \n",
            "    users.subscription_status\n",
            "ORDER BY total_comments DESC\n",
            "LIMIT 1000\n"
          ]
        }
      ],
      "source": [
        "# Use the question function to generate SQL from natural language\n",
        "analysis = sample.question(\"accumulate the total comments count for each user\")\n",
        "print(\"SQL generated by Agent:\")\n",
        "print(analysis)\n"
      ]
    },
    {
      "cell_type": "code",
      "execution_count": null,
      "metadata": {
        "colab": {
          "base_uri": "https://localhost:8080/"
        },
        "id": "12OS_sO-xQy3",
        "outputId": "f165d41d-a359-4ae8-b262-97444897cd7f"
      },
      "outputs": [
        {
          "output_type": "stream",
          "name": "stdout",
          "text": [
            "Results from SQL:\n",
            "    ┌─id─┬─name────────────┬─subscription_status─┬─total_comments─┐\n",
            " 1. │  1 │ John Doe        │ active              │              7 │\n",
            " 2. │  3 │ Bob Smith       │ active              │              5 │\n",
            " 3. │ 16 │ Mary White      │ active              │              1 │\n",
            " 4. │  6 │ Emily Davis     │ active              │              1 │\n",
            " 5. │ 10 │ Lisa Anderson   │ active              │              1 │\n",
            " 6. │  8 │ Sarah Wilson    │ active              │              1 │\n",
            " 7. │ 13 │ Robert Garcia   │ active              │              1 │\n",
            " 8. │ 11 │ James Taylor    │ active              │              1 │\n",
            " 9. │  5 │ Bob Johnson     │ active              │              1 │\n",
            "10. │ 18 │ Elizabeth Clark │ active              │              1 │\n",
            "11. │ 20 │ Nancy Hall      │ active              │              1 │\n",
            "12. │ 15 │ William Lee     │ active              │              1 │\n",
            "    └────┴─────────────────┴─────────────────────┴────────────────┘\n",
            "\n",
            "    id             name subscription_status  total_comments\n",
            "0    1         John Doe              active               7\n",
            "1    3        Bob Smith              active               5\n",
            "2   16       Mary White              active               1\n",
            "3    6      Emily Davis              active               1\n",
            "4   10    Lisa Anderson              active               1\n",
            "5    8     Sarah Wilson              active               1\n",
            "6   13    Robert Garcia              active               1\n",
            "7   11     James Taylor              active               1\n",
            "8    5      Bob Johnson              active               1\n",
            "9   18  Elizabeth Clark              active               1\n",
            "10  20       Nancy Hall              active               1\n",
            "11  15      William Lee              active               1\n",
            "{'id': [1, 3, 16, 6, 10, 8, 13, 11, 5, 18, 20, 15], 'name': ['John Doe', 'Bob Smith', 'Mary White', 'Emily Davis', 'Lisa Anderson', 'Sarah Wilson', 'Robert Garcia', 'James Taylor', 'Bob Johnson', 'Elizabeth Clark', 'Nancy Hall', 'William Lee'], 'subscription_status': ['active', 'active', 'active', 'active', 'active', 'active', 'active', 'active', 'active', 'active', 'active', 'active'], 'total_comments': [7, 5, 1, 1, 1, 1, 1, 1, 1, 1, 1, 1]}\n"
          ]
        }
      ],
      "source": [
        "print(\"Results from SQL:\")\n",
        "print(analysis.execute())\n",
        "\n",
        "# Rich output format options\n",
        "# Multiple export formats for different downstream needs\n",
        "result = analysis.to_dataframe()  # Return pandas DataFrame\n",
        "print(result)\n",
        "result = analysis.to_dict()  # Return dictionary structure\n",
        "print(result)\n"
      ]
    },
    {
      "cell_type": "code",
      "execution_count": null,
      "metadata": {
        "colab": {
          "base_uri": "https://localhost:8080/",
          "height": 540
        },
        "id": "MdWcZFyIxQy3",
        "outputId": "59491aca-0b63-4b96-a3c3-d42ed8146eb2"
      },
      "outputs": [
        {
          "output_type": "display_data",
          "data": {
            "text/plain": [
              "<Figure size 640x480 with 1 Axes>"
            ],
            "image/png": "[encoded data removed]"
          },
          "metadata": {}
        }
      ],
      "source": [
        "analysis.plot(x=\"name\", y=\"total_comments\", kind=\"bar\")"
      ]
    }
  ],
  "metadata": {
    "kernelspec": {
      "display_name": "data-sdk",
      "language": "python",
      "name": "python3"
    },
    "language_info": {
      "codemirror_mode": {
        "name": "ipython",
        "version": 3
      },
      "file_extension": ".py",
      "mimetype": "text/x-python",
      "name": "python",
      "nbconvert_exporter": "python",
      "pygments_lexer": "ipython3",
      "version": "3.11.2"
    },
    "colab": {
      "provenance": [],
      "include_colab_link": true
    }
  },
  "nbformat": 4,
  "nbformat_minor": 0
}
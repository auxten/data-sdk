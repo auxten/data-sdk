{
 "cells": [
  {
   "cell_type": "code",
   "execution_count": 1,
   "metadata": {},
   "outputs": [
    {
     "name": "stdout",
     "output_type": "stream",
     "text": [
      "SELECT users.id, users.name, users.subscription_status FROM Python(reader) AS users WHERE users.subscription_status = 'active'\n"
     ]
    }
   ],
   "source": [
    "from datasource import DataSource\n",
    "from agent import Agent, ANTHROPIC_API_KEY\n",
    "\n",
    "# Use a Pandas-style connection configuration approach with unified interface\n",
    "# chDB can use any Python function or API as a table\n",
    "revenuecat = DataSource.connect(\n",
    "    \"API\",\n",
    "    url=\"http://localhost:8000/v1\",\n",
    "    api_key=\"\",\n",
    ")\n",
    "\n",
    "# select() method to specify fields\n",
    "# Allows more granular control over returned data\n",
    "users = revenuecat.collection(\"users\").select(\"id, name, subscription_status\")\n",
    "\n",
    "# filter method with multiple operator support\n",
    "# More expressive filtering operations with SQL-like clarity\n",
    "active_users = users.filter(\"subscription_status\", \"=\", \"active\")\n",
    "\n",
    "print(active_users)\n"
   ]
  },
  {
   "cell_type": "code",
   "execution_count": 2,
   "metadata": {},
   "outputs": [
    {
     "name": "stdout",
     "output_type": "stream",
     "text": [
      "Query Plan:\n",
      "SELECT users.id, users.name, users.subscription_status, comments.* FROM Python(reader) AS users JOIN file('data/comments.csv', 'CSV') AS comments ON users.id=comments.user_id WHERE users.subscription_status = 'active' LIMIT 1000\n",
      "\n",
      "Results:\n",
      "    ┌─id─┬─name────────────┬─subscription_status─┬─user_id─┬─comment_text─────────────────────────────────────┬─comments.created_at─┬─likes─┐\n",
      " 1. │  1 │ John Doe        │ active              │       1 │ Great product! Really love the features.         │ 2023-01-15 10:30:00 │     5 │\n",
      " 2. │  1 │ John Doe        │ active              │       1 │ Customer support was very helpful.               │ 2023-01-17 14:20:00 │     3 │\n",
      " 3. │  1 │ John Doe        │ active              │       1 │ Would recommend to others.                       │ 2023-01-21 10:00:00 │     6 │\n",
      " 4. │  1 │ John Doe        │ active              │       1 │ Great value for money.                           │ 2023-01-24 14:45:00 │     7 │\n",
      " 5. │  1 │ John Doe        │ active              │       1 │ Regular updates keep improving the experience.   │ 2023-01-26 12:15:00 │     4 │\n",
      " 6. │  1 │ John Doe        │ active              │       1 │ The API documentation is very clear.             │ 2023-01-30 11:45:00 │     5 │\n",
      " 7. │  1 │ John Doe        │ active              │       1 │ The security features give me peace of mind.     │ 2023-02-03 14:15:00 │     8 │\n",
      " 8. │  3 │ Bob Smith       │ active              │       3 │ Best service I've used in years!                 │ 2023-01-18 09:15:00 │     8 │\n",
      " 9. │  3 │ Bob Smith       │ active              │       3 │ The pricing is very reasonable.                  │ 2023-01-20 13:45:00 │     4 │\n",
      "10. │  3 │ Bob Smith       │ active              │       3 │ The documentation could be better.               │ 2023-01-23 11:30:00 │     2 │\n",
      "11. │  3 │ Bob Smith       │ active              │       3 │ Quick response time from the support team.       │ 2023-01-28 10:20:00 │     3 │\n",
      "12. │  3 │ Bob Smith       │ active              │       3 │ The performance is impressive.                   │ 2023-02-01 15:10:00 │     6 │\n",
      "13. │  5 │ Bob Johnson     │ active              │       5 │ The onboarding process was smooth and intuitive. │ 2023-02-04 09:45:00 │     4 │\n",
      "14. │  6 │ Emily Davis     │ active              │       6 │ Love the dark mode feature!                      │ 2023-02-05 11:20:00 │     7 │\n",
      "15. │  8 │ Sarah Wilson    │ active              │       8 │ Excellent customer service experience.           │ 2023-02-07 16:15:00 │     5 │\n",
      "16. │ 10 │ Lisa Anderson   │ active              │      10 │ Would like to see more integration options.      │ 2023-02-09 13:25:00 │     3 │\n",
      "17. │ 11 │ James Taylor    │ active              │      11 │ The mobile responsiveness is top-notch.          │ 2023-02-10 15:50:00 │     8 │\n",
      "18. │ 13 │ Robert Garcia   │ active              │      13 │ Great for team collaboration.                    │ 2023-02-12 11:30:00 │     6 │\n",
      "19. │ 15 │ William Lee     │ active              │      15 │ The backup system works flawlessly.              │ 2023-02-14 16:20:00 │     7 │\n",
      "20. │ 16 │ Mary White      │ active              │      16 │ The notification system is too aggressive.       │ 2023-02-15 10:35:00 │     2 │\n",
      "21. │ 18 │ Elizabeth Clark │ active              │      18 │ The UI design is modern and clean.               │ 2023-02-17 15:05:00 │     6 │\n",
      "22. │ 20 │ Nancy Hall      │ active              │      20 │ The data visualization tools are powerful.       │ 2023-02-19 11:45:00 │     7 │\n",
      "    └────┴─────────────────┴─────────────────────┴─────────┴──────────────────────────────────────────────────┴─────────────────────┴───────┘\n",
      "\n"
     ]
    }
   ],
   "source": [
    "\n",
    "# Database connections use the same unified interface\n",
    "# Consistency across different data sources reduces cognitive load\n",
    "# db = DataSource.connect(\n",
    "#     \"postgres\", host=\"localhost\", database=\"mydb\", user=\"user\", password=\"xxx\"\n",
    "# )\n",
    "\n",
    "# File source connection (CSV)\n",
    "db = DataSource.connect(\"file\", path=\"data/comments.csv\", format=\"CSV\")\n",
    "\n",
    "# SQL syntax sugar while maintaining DataFrame-style interface\n",
    "# Familiar SQL concepts merged with modern object chaining\n",
    "comments = db.table(\"comments\").select(\"*\")\n",
    "\n",
    "# Add Pandas-style relational queries\n",
    "# Enhanced join operations with clear relation definition\n",
    "subscribed_user_comments = active_users.join(\n",
    "    comments, on={\"users.id\": \"comments.user_id\"}\n",
    ")\n",
    "\n",
    "# Pandas-style pagination and limitations\n",
    "# Efficient data handling without loading unnecessary records\n",
    "sample = subscribed_user_comments.limit(1000)\n",
    "\n",
    "# Show the query plan\n",
    "print(\"Query Plan:\")\n",
    "print(sample)\n",
    "\n",
    "# Execute the query and show results\n",
    "print(\"\\nResults:\")\n",
    "print(sample.execute())\n",
    "\n",
    "# Execute with different output formats\n",
    "# print(\"\\nResults as JSON:\")\n",
    "# print(sample.execute(output_format=\"JSON\"))\n"
   ]
  },
  {
   "cell_type": "code",
   "execution_count": 3,
   "metadata": {},
   "outputs": [
    {
     "name": "stdout",
     "output_type": "stream",
     "text": [
      "SQL generated by Agent:\n",
      "SELECT \n",
      "    users.id, \n",
      "    users.name, \n",
      "    users.subscription_status, \n",
      "    COUNT(comments.user_id) AS total_comments\n",
      "FROM Python(reader) AS users \n",
      "JOIN file('data/comments.csv', 'CSV') AS comments ON (users.id = comments.user_id) \n",
      "WHERE users.subscription_status = 'active'\n",
      "GROUP BY \n",
      "    users.id, \n",
      "    users.name, \n",
      "    users.subscription_status\n",
      "ORDER BY total_comments DESC\n",
      "LIMIT 1000\n"
     ]
    }
   ],
   "source": [
    "# Use the question function to generate SQL from natural language\n",
    "analysis = sample.question(\"accumulate the total comments count for each user\")\n",
    "print(\"SQL generated by Agent:\")\n",
    "print(analysis)\n"
   ]
  },
  {
   "cell_type": "code",
   "execution_count": 4,
   "metadata": {},
   "outputs": [
    {
     "name": "stdout",
     "output_type": "stream",
     "text": [
      "Results from SQL:\n",
      "    ┌─id─┬─name────────────┬─subscription_status─┬─total_comments─┐\n",
      " 1. │  1 │ John Doe        │ active              │              7 │\n",
      " 2. │  3 │ Bob Smith       │ active              │              5 │\n",
      " 3. │ 16 │ Mary White      │ active              │              1 │\n",
      " 4. │  6 │ Emily Davis     │ active              │              1 │\n",
      " 5. │ 10 │ Lisa Anderson   │ active              │              1 │\n",
      " 6. │  8 │ Sarah Wilson    │ active              │              1 │\n",
      " 7. │ 13 │ Robert Garcia   │ active              │              1 │\n",
      " 8. │ 11 │ James Taylor    │ active              │              1 │\n",
      " 9. │  5 │ Bob Johnson     │ active              │              1 │\n",
      "10. │ 18 │ Elizabeth Clark │ active              │              1 │\n",
      "11. │ 20 │ Nancy Hall      │ active              │              1 │\n",
      "12. │ 15 │ William Lee     │ active              │              1 │\n",
      "    └────┴─────────────────┴─────────────────────┴────────────────┘\n",
      "\n",
      "    id             name subscription_status  total_comments\n",
      "0    1         John Doe              active               7\n",
      "1    3        Bob Smith              active               5\n",
      "2   16       Mary White              active               1\n",
      "3    6      Emily Davis              active               1\n",
      "4   10    Lisa Anderson              active               1\n",
      "5    8     Sarah Wilson              active               1\n",
      "6   13    Robert Garcia              active               1\n",
      "7   11     James Taylor              active               1\n",
      "8    5      Bob Johnson              active               1\n",
      "9   18  Elizabeth Clark              active               1\n",
      "10  20       Nancy Hall              active               1\n",
      "11  15      William Lee              active               1\n",
      "{'id': [1, 3, 16, 6, 10, 8, 13, 11, 5, 18, 20, 15], 'name': ['John Doe', 'Bob Smith', 'Mary White', 'Emily Davis', 'Lisa Anderson', 'Sarah Wilson', 'Robert Garcia', 'James Taylor', 'Bob Johnson', 'Elizabeth Clark', 'Nancy Hall', 'William Lee'], 'subscription_status': ['active', 'active', 'active', 'active', 'active', 'active', 'active', 'active', 'active', 'active', 'active', 'active'], 'total_comments': [7, 5, 1, 1, 1, 1, 1, 1, 1, 1, 1, 1]}\n"
     ]
    }
   ],
   "source": [
    "print(\"Results from SQL:\")\n",
    "print(analysis.execute())\n",
    "\n",
    "# Rich output format options\n",
    "# Multiple export formats for different downstream needs\n",
    "result = analysis.to_dataframe()  # Return pandas DataFrame\n",
    "print(result)\n",
    "result = analysis.to_dict()  # Return dictionary structure\n",
    "print(result)\n"
   ]
  },
  {
   "cell_type": "code",
   "execution_count": 5,
   "metadata": {},
   "outputs": [
    {
     "data": {
      "image/png": "[encoded data removed]",
      "text/plain": [
       "<Figure size 640x480 with 1 Axes>"
      ]
     },
     "metadata": {},
     "output_type": "display_data"
    }
   ],
   "source": [
    "analysis.plot(x=\"name\", y=\"total_comments\", kind=\"bar\")"
   ]
  }
 ],
 "metadata": {
  "kernelspec": {
   "display_name": "data-sdk",
   "language": "python",
   "name": "python3"
  },
  "language_info": {
   "codemirror_mode": {
    "name": "ipython",
    "version": 3
   },
   "file_extension": ".py",
   "mimetype": "text/x-python",
   "name": "python",
   "nbconvert_exporter": "python",
   "pygments_lexer": "ipython3",
   "version": "3.11.2"
  }
 },
 "nbformat": 4,
 "nbformat_minor": 2
}
